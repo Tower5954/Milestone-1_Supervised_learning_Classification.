{
 "cells": [
  {
   "cell_type": "markdown",
   "id": "purple-supplier",
   "metadata": {},
   "source": [
    "# Predicting heart disease using machine learning.\n",
    "\n",
    "This notebook, looks into using various Python-based machine learning, and data science libraries in an attempt to build a machine learning model, capable of predicting whether or not someone has heart disease based on their medical attributes."
   ]
  },
  {
   "cell_type": "markdown",
   "id": "material-student",
   "metadata": {},
   "source": [
    "We are going to take the following approach:\n",
    "1. Problem definition.\n",
    "2. Data.\n",
    "3. Evaluation.\n",
    "4. Features.\n",
    "5. Modelling.\n",
    "6. Experimentation "
   ]
  },
  {
   "cell_type": "markdown",
   "id": "neutral-kitty",
   "metadata": {},
   "source": [
    "## 1. Problem definition"
   ]
  },
  {
   "cell_type": "markdown",
   "id": "colonial-weapon",
   "metadata": {},
   "source": [
    "In a statement,\n",
    "> Given clinical parameters about a patient, can we predict whether or not they have heart disease?"
   ]
  },
  {
   "cell_type": "markdown",
   "id": "turned-smell",
   "metadata": {},
   "source": [
    "## 2. Data\n",
    "\n",
    "This database contains 76 attributes, but all published experiments refer to using a subset of 14 of them. In particular, the Cleveland database is the only one that has been used by ML researchers to\n",
    "this date. The \"goal\" field refers to the presence of heart disease in the patient. It is integer valued from 0 (no presence) to 4."
   ]
  },
  {
   "cell_type": "markdown",
   "id": "directed-carbon",
   "metadata": {},
   "source": [
    "#### Create data dictionary\n",
    "\n",
    "1. age\n",
    "2. sex (1 = Male, 0 = Female)\n",
    "3. chest pain type (4 values)\n",
    "4. resting blood pressure\n",
    "5. serum cholestoral in mg/dl\n",
    "6. fasting blood sugar > 120 mg/dl\n",
    "7. resting electrocardiographic results (values 0,1,2)\n",
    "8. maximum heart rate achieved\n",
    "9. exercise induced angina\n",
    "10. oldpeak = ST depression induced by exercise relative to rest\n",
    "   the slope of the peak exercise ST segment\n",
    "11. number of major vessels (0-3) colored by flourosopy\n",
    "12. thal: 3 = normal; 6 = fixed defect; 7 = reversable defect\n",
    "13. target 1 or 0"
   ]
  },
  {
   "cell_type": "code",
   "execution_count": null,
   "id": "decimal-error",
   "metadata": {},
   "outputs": [],
   "source": []
  }
 ],
 "metadata": {
  "kernelspec": {
   "display_name": "Python 3",
   "language": "python",
   "name": "python3"
  },
  "language_info": {
   "codemirror_mode": {
    "name": "ipython",
    "version": 3
   },
   "file_extension": ".py",
   "mimetype": "text/x-python",
   "name": "python",
   "nbconvert_exporter": "python",
   "pygments_lexer": "ipython3",
   "version": "3.9.2"
  }
 },
 "nbformat": 4,
 "nbformat_minor": 5
}
